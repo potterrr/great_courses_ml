{
  "nbformat": 4,
  "nbformat_minor": 0,
  "metadata": {
    "colab": {
      "name": "Copy of L07.ipynb",
      "provenance": [],
      "collapsed_sections": [],
      "include_colab_link": true
    },
    "language_info": {
      "codemirror_mode": {
        "name": "ipython",
        "version": 3
      },
      "file_extension": ".py",
      "mimetype": "text/x-python",
      "name": "python",
      "nbconvert_exporter": "python",
      "pygments_lexer": "ipython3",
      "version": "3.6.8"
    },
    "kernelspec": {
      "display_name": "Python 3",
      "language": "python",
      "name": "python3"
    }
  },
  "cells": [
    {
      "cell_type": "markdown",
      "metadata": {
        "id": "view-in-github",
        "colab_type": "text"
      },
      "source": [
        "<a href=\"https://colab.research.google.com/github/potterrr/great_courses_ml/blob/master/Copy_of_L07.ipynb\" target=\"_parent\"><img src=\"https://colab.research.google.com/assets/colab-badge.svg\" alt=\"Open In Colab\"/></a>"
      ]
    },
    {
      "cell_type": "markdown",
      "metadata": {
        "id": "OYhWPv_Sxmhn"
      },
      "source": [
        "In this example, we will be training a symbolic regression using genetic programming.  We will try to fit our model to a set of points.\n",
        "\n",
        "To do this, we will use the library `gplearn` which we install and load with our other libraries below.\n"
      ]
    },
    {
      "cell_type": "code",
      "metadata": {
        "id": "pBhW9Zp8P13h",
        "colab": {
          "base_uri": "https://localhost:8080/"
        },
        "outputId": "922402b7-71f2-424f-d942-5317582d49e1"
      },
      "source": [
        "!pip install gplearn\n",
        "from gplearn.genetic import SymbolicRegressor\n",
        "import matplotlib.pyplot as plt\n",
        "import numpy as np"
      ],
      "execution_count": null,
      "outputs": [
        {
          "output_type": "stream",
          "text": [
            "Requirement already satisfied: gplearn in /usr/local/lib/python3.7/dist-packages (0.4.1)\n",
            "Requirement already satisfied: joblib>=0.13.0 in /usr/local/lib/python3.7/dist-packages (from gplearn) (1.0.1)\n",
            "Requirement already satisfied: scikit-learn>=0.20.0 in /usr/local/lib/python3.7/dist-packages (from gplearn) (0.22.2.post1)\n",
            "Requirement already satisfied: numpy>=1.11.0 in /usr/local/lib/python3.7/dist-packages (from scikit-learn>=0.20.0->gplearn) (1.19.5)\n",
            "Requirement already satisfied: scipy>=0.17.0 in /usr/local/lib/python3.7/dist-packages (from scikit-learn>=0.20.0->gplearn) (1.4.1)\n"
          ],
          "name": "stdout"
        }
      ]
    },
    {
      "cell_type": "markdown",
      "metadata": {
        "id": "v0KCDbr61OjM"
      },
      "source": [
        "Next we will create the function for our data and make our training and test data with the function `fitme`. Given an input `x`, our target function will be a simple cubic function: $\\frac{x^3}{10} + x^2$.\n",
        "\n",
        "We’ll make a training set `X_train` for this function consisting of 50 `uniform` random `xs` between -10 and 10. We run these points through our target `fitme` function to get the corresponding targets, `y_train`.\n"
      ]
    },
    {
      "cell_type": "code",
      "metadata": {
        "id": "XxKjFjGsM4pk",
        "colab": {
          "base_uri": "https://localhost:8080/"
        },
        "outputId": "951c66d1-2ca9-406a-b82d-5bb7544b7c30"
      },
      "source": [
        "def fitme(x):\n",
        "  return(0.1*x*x*x + x*x)\n",
        "\n",
        "# Training samples\n",
        "X_train = np.random.uniform(-10, 10, (50,1))\n",
        "print(X_train)\n",
        "y_train = [fitme(X) for X in X_train]\n",
        "\n",
        "# Testing samples\n",
        "X_test = np.random.uniform(-10, 10, (50,1))\n",
        "print(X_test)\n",
        "y_test = [fitme(X) for X in X_test]"
      ],
      "execution_count": null,
      "outputs": [
        {
          "output_type": "stream",
          "text": [
            "[[-8.47989121]\n",
            " [-3.33296937]\n",
            " [-6.38421025]\n",
            " [ 3.25257743]\n",
            " [ 5.28008068]\n",
            " [ 2.43341204]\n",
            " [ 5.42311355]\n",
            " [-4.46586274]\n",
            " [ 3.38586649]\n",
            " [-6.59051746]\n",
            " [ 5.69775179]\n",
            " [ 2.2069931 ]\n",
            " [-1.15538861]\n",
            " [-4.41846667]\n",
            " [ 3.73662146]\n",
            " [ 1.95343763]\n",
            " [ 7.07327274]\n",
            " [-4.737107  ]\n",
            " [-8.31435453]\n",
            " [ 9.6026085 ]\n",
            " [-4.45396768]\n",
            " [-1.36679027]\n",
            " [-7.16572013]\n",
            " [ 5.45013438]\n",
            " [ 3.87952349]\n",
            " [-9.02057   ]\n",
            " [ 6.3275999 ]\n",
            " [-4.55693257]\n",
            " [-0.84058782]\n",
            " [-1.24975355]\n",
            " [-8.32734577]\n",
            " [-1.62716223]\n",
            " [-0.59663079]\n",
            " [ 2.14803809]\n",
            " [-9.74979773]\n",
            " [ 7.7731253 ]\n",
            " [-4.70806067]\n",
            " [-0.81482143]\n",
            " [ 2.66276267]\n",
            " [-5.77239503]\n",
            " [-8.51271465]\n",
            " [ 7.73051107]\n",
            " [-1.06542497]\n",
            " [-0.3822516 ]\n",
            " [-8.03099487]\n",
            " [ 5.63400619]\n",
            " [-0.07633406]\n",
            " [-2.73066548]\n",
            " [-4.44685126]\n",
            " [ 1.21513762]]\n",
            "[[-7.40050134]\n",
            " [-8.12176274]\n",
            " [ 3.75285411]\n",
            " [-1.23872528]\n",
            " [-2.88503595]\n",
            " [ 4.15407525]\n",
            " [-8.06207756]\n",
            " [ 9.07696177]\n",
            " [ 8.09725502]\n",
            " [-7.85818003]\n",
            " [ 3.40520019]\n",
            " [-9.47056795]\n",
            " [ 4.11916856]\n",
            " [ 2.4181566 ]\n",
            " [ 1.12944545]\n",
            " [-2.50794192]\n",
            " [-6.76581475]\n",
            " [-3.09437944]\n",
            " [ 1.7337634 ]\n",
            " [-0.95057657]\n",
            " [-9.26465574]\n",
            " [ 5.5250235 ]\n",
            " [-8.38200085]\n",
            " [ 5.49587663]\n",
            " [ 9.12513294]\n",
            " [ 5.74027001]\n",
            " [ 5.30502713]\n",
            " [-4.37206479]\n",
            " [ 3.01085346]\n",
            " [-7.88146888]\n",
            " [-9.94270891]\n",
            " [ 4.62332097]\n",
            " [ 9.05211584]\n",
            " [ 8.96218041]\n",
            " [-4.5747027 ]\n",
            " [-6.41348704]\n",
            " [ 1.55315465]\n",
            " [-2.4194135 ]\n",
            " [-1.3547278 ]\n",
            " [ 4.72610261]\n",
            " [ 6.79232443]\n",
            " [ 8.28094445]\n",
            " [-3.42117566]\n",
            " [ 2.61551721]\n",
            " [ 6.51478517]\n",
            " [ 0.14886841]\n",
            " [ 1.21343671]\n",
            " [ 6.27770156]\n",
            " [ 8.34589751]\n",
            " [-5.20726643]]\n"
          ],
          "name": "stdout"
        }
      ]
    },
    {
      "cell_type": "markdown",
      "metadata": {
        "id": "AiBDHHOp6ad4"
      },
      "source": [
        "We will plot the data below"
      ]
    },
    {
      "cell_type": "code",
      "metadata": {
        "id": "Q8Pi7NXvUQTc",
        "colab": {
          "base_uri": "https://localhost:8080/",
          "height": 295
        },
        "outputId": "b5408b8b-6c4c-41a7-8334-e1df4427bd87"
      },
      "source": [
        "plt.scatter(X_train, y_train)\n",
        "plt.title('Target distance')\n",
        "plt.xlabel('angle')\n",
        "plt.ylabel('distance')\n",
        "plt.show()"
      ],
      "execution_count": null,
      "outputs": [
        {
          "output_type": "display_data",
          "data": {
            "image/png": "[encoded data removed]",
            "text/plain": [
              "<Figure size 432x288 with 1 Axes>"
            ]
          },
          "metadata": {
            "tags": [],
            "needs_background": "light"
          }
        }
      ]
    },
    {
      "cell_type": "markdown",
      "metadata": {
        "id": "h-zroV7F6cs0"
      },
      "source": [
        "Let's fit a model to this function using genetic programming. The “gplearn” package, first released in 2015, adopts the approach of the Scikit-Learn library and extends it to genetic programming. We install it and import it.\n",
        "\n",
        "Our genetic-programming-based estimator, `est_gp` is a “symbolic regressor”. That is to say, we’re solving a regression problem by finding a symbolic expression --- a little piece of a program.\n",
        "\n",
        "The program it finds will use only two operators: `add` for add and `mul` for multiply. A program can use as many of these operators as necessary. However, there’s a tradeoff in the search between accurately matching the training data and being parsimonious --- using a small expression.  The parsimony_coefficient tells the genetic programming search how much weight to put on parsimony compared to accuracy. Parsimony coefficient can be any non-negative value, where smaller numbers for parsimony tend to result in much bigger programs created."
      ]
    },
    {
      "cell_type": "code",
      "metadata": {
        "id": "hH3deSG8M4vQ",
        "colab": {
          "base_uri": "https://localhost:8080/",
          "height": 241
        },
        "outputId": "ecebce48-5ff6-4904-b9c2-0ab52e053c9a"
      },
      "source": [
        "est_gp = SymbolicRegressor(population_size=10000,parsimony_coefficient=0.1,\n",
        "                           function_set=('add', 'mul'))\n",
        "est_gp.fit(X_train, y_train)"
      ],
      "execution_count": null,
      "outputs": [
        {
          "output_type": "stream",
          "text": [
            "/usr/local/lib/python3.6/dist-packages/sklearn/utils/validation.py:760: DataConversionWarning: A column-vector y was passed when a 1d array was expected. Please change the shape of y to (n_samples, ), for example using ravel().\n",
            "  y = column_or_1d(y, warn=True)\n"
          ],
          "name": "stderr"
        },
        {
          "output_type": "execute_result",
          "data": {
            "text/plain": [
              "SymbolicRegressor(const_range=(-1.0, 1.0), feature_names=None,\n",
              "                  function_set=('add', 'mul'), generations=20,\n",
              "                  init_depth=(2, 6), init_method='half and half',\n",
              "                  low_memory=False, max_samples=1.0,\n",
              "                  metric='mean absolute error', n_jobs=1, p_crossover=0.9,\n",
              "                  p_hoist_mutation=0.01, p_point_mutation=0.01,\n",
              "                  p_point_replace=0.05, p_subtree_mutation=0.01,\n",
              "                  parsimony_coefficient=0.1, population_size=10000,\n",
              "                  random_state=None, stopping_criteria=0.0, tournament_size=20,\n",
              "                  verbose=0, warm_start=False)"
            ]
          },
          "metadata": {
            "tags": []
          },
          "execution_count": 4
        }
      ]
    },
    {
      "cell_type": "markdown",
      "metadata": {
        "id": "um9DW3om6prk"
      },
      "source": [
        "We can now plot the performance of the model on the test set"
      ]
    },
    {
      "cell_type": "code",
      "metadata": {
        "id": "o2DBso_iXjKB",
        "colab": {
          "base_uri": "https://localhost:8080/",
          "height": 295
        },
        "outputId": "436a6ddd-11d6-4393-da26-70e186a0a83e"
      },
      "source": [
        "X_lots = np.reshape(np.sort(np.random.uniform(-10, 10, 250)),(-1,1))\n",
        "\n",
        "y_gp = est_gp.predict(X_lots)\n",
        "\n",
        "plt.scatter(X_test, y_test)\n",
        "plt.plot(X_lots, y_gp)\n",
        "plt.title('Target distance')\n",
        "plt.xlabel('angle')\n",
        "plt.ylabel('distance')\n",
        "plt.show()"
      ],
      "execution_count": null,
      "outputs": [
        {
          "output_type": "display_data",
          "data": {
            "image/png": "[encoded data removed]",
            "text/plain": [
              "<Figure size 432x288 with 1 Axes>"
            ]
          },
          "metadata": {
            "tags": [],
            "needs_background": "light"
          }
        }
      ]
    },
    {
      "cell_type": "markdown",
      "metadata": {
        "id": "nmK768JP6_uT"
      },
      "source": [
        "Finally we print the function learned by the genetic program below"
      ]
    },
    {
      "cell_type": "code",
      "metadata": {
        "id": "tSrdTemIM4yO",
        "colab": {
          "base_uri": "https://localhost:8080/",
          "height": 34
        },
        "outputId": "8c44a929-4134-4019-ba3b-0da021693840"
      },
      "source": [
        "print(est_gp._program)"
      ],
      "execution_count": null,
      "outputs": [
        {
          "output_type": "stream",
          "text": [
            "add(mul(X0, X0), mul(mul(mul(0.029, X0), X0), add(mul(X0, 0.505), add(X0, add(X0, X0)))))\n"
          ],
          "name": "stdout"
        }
      ]
    }
  ]
}